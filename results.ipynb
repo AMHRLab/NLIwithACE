{
 "cells": [
  {
   "cell_type": "code",
   "execution_count": null,
   "metadata": {},
   "outputs": [],
   "source": [
    "folder = 'attempts2' # the path to where all the files are\n",
    "n = 20 # number of parts the dataset was divided into"
   ]
  },
  {
   "cell_type": "code",
   "execution_count": null,
   "metadata": {},
   "outputs": [],
   "source": [
    "errors = []\n",
    "for i in range(n):\n",
    "    try:\n",
    "        with open(folder + '/Output_no_' + str(i) + '_errors.txt') as f: # change the file name according to the code\n",
    "            errors.append(len(f.readlines()))\n",
    "    except:\n",
    "        continue\n",
    "errors"
   ]
  },
  {
   "cell_type": "code",
   "execution_count": null,
   "metadata": {},
   "outputs": [],
   "source": [
    "parseFails = []\n",
    "E, N, C = 0, 0, 0 # number of E, N, C parsefails\n",
    "for i in range(n):\n",
    "    try:\n",
    "        with open(folder + '/Output_no_' + str(i) + '_parseFails.txt') as f:\n",
    "            q = 0\n",
    "            for _ in f.readlines():\n",
    "                __ = _.split()\n",
    "                q += 1\n",
    "                if __[0] == 'entailment':\n",
    "                    E += 1\n",
    "                elif __[0] == 'contradiction':\n",
    "                    C += 1\n",
    "                else:\n",
    "                    N += 1\n",
    "            parseFails.append(q)\n",
    "    except:\n",
    "        continue\n",
    "parseFails, E, N, C"
   ]
  },
  {
   "cell_type": "markdown",
   "metadata": {},
   "source": [
    "### Confusion Matrix Generation\n",
    "The matrix is going to be of the format as in described here: https://en.wikipedia.org/wiki/Confusion_matrix"
   ]
  },
  {
   "cell_type": "code",
   "execution_count": null,
   "metadata": {},
   "outputs": [],
   "source": [
    "def create_cm(r): # r is the file tag : \"no\", \"syn\", \"sep\", \"sen\", \"neu\"\n",
    "    cm = [[0, 0, 0], [0, 0, 0], [0, 0, 0]]\n",
    "    for i in range(n):\n",
    "        try:\n",
    "            with open(folder + '/Output_no_' + str(i) + r + '_correct.txt') as f:\n",
    "                for _ in f.readlines():\n",
    "                    __ = _.split()\n",
    "                    if __[0] == 'entailment':\n",
    "                        cm[0][0] += 1\n",
    "                    elif __[0] == 'contradiction':\n",
    "                        cm[2][2] += 1\n",
    "                    else:\n",
    "                        cm[1][1] += 1\n",
    "        except:\n",
    "            pass\n",
    "        try:\n",
    "            with open(folder + '/Output_no_' + str(i) + r + '_incorrect.txt') as f:\n",
    "                for _ in f.readlines():\n",
    "                    __ = _.split()\n",
    "                    if __[0] == 'entailment':\n",
    "                        if __[1] == 'contradiction':\n",
    "                            cm[2][0] += 1\n",
    "                        else:\n",
    "                            cm[1][0] += 1\n",
    "                    if __[0] == 'contradiction':\n",
    "                        if __[1] == 'entailment':\n",
    "                            cm[0][2] += 1\n",
    "                        else:\n",
    "                            cm[1][2] += 1\n",
    "                    elif __[0] == 'neutral':\n",
    "                        if __[1] == 'entailment':\n",
    "                            cm[0][1] += 1\n",
    "                        else:\n",
    "                            cm[2][1] += 1\n",
    "        except:\n",
    "            pass\n",
    "    return cm"
   ]
  },
  {
   "cell_type": "code",
   "execution_count": null,
   "metadata": {},
   "outputs": [],
   "source": [
    "cm_no = create_cm('no') # when no rules are applied\n",
    "print(cm_no[0])\n",
    "print(cm_no[1])\n",
    "print(cm_no[2])"
   ]
  },
  {
   "cell_type": "code",
   "execution_count": null,
   "metadata": {},
   "outputs": [],
   "source": [
    "cm_sy = create_cm('sy') # when only syntactic rules were applied\n",
    "print(cm_sy[0])\n",
    "print(cm_sy[1])\n",
    "print(cm_sy[2])"
   ]
  },
  {
   "cell_type": "code",
   "execution_count": null,
   "metadata": {},
   "outputs": [],
   "source": [
    "cm_sep = create_cm('sep') # when syntactic rules and positive semantic formulae are used\n",
    "print(cm_sep[0])\n",
    "print(cm_sep[1])\n",
    "print(cm_sep[2])"
   ]
  },
  {
   "cell_type": "code",
   "execution_count": null,
   "metadata": {},
   "outputs": [],
   "source": [
    "cm_sen = create_cm('sen') # when syntactic rules, positive semantic formulae, and negative semantic formulae are used\n",
    "print(cm_sen[0])\n",
    "print(cm_sen[1])\n",
    "print(cm_sen[2])"
   ]
  },
  {
   "cell_type": "code",
   "execution_count": null,
   "metadata": {},
   "outputs": [],
   "source": [
    "cm_neu = create_cm('neu') # when it guessed neutral anyway\n",
    "# use only if you want to include the parseFails in the CM\n",
    "# cm_neu[0][1] += e\n",
    "# cm_neu[1][1] += n\n",
    "# cm_neu[2][1] += c\n",
    "print(cm_neu[0])\n",
    "print(cm_neu[1])\n",
    "print(cm_neu[2])"
   ]
  },
  {
   "cell_type": "code",
   "execution_count": null,
   "metadata": {},
   "outputs": [],
   "source": [
    "final_cm = [[cm_no[i][j] + cm_sy[i][j] + cm_sep[i][j] + cm_sen[i][j] + cm_neu[i][j] for j in range(3)] for i in range(3)]\n",
    "print(final_cm[0])\n",
    "print(final_cm[1])\n",
    "print(final_cm[2])"
   ]
  },
  {
   "cell_type": "code",
   "execution_count": null,
   "metadata": {},
   "outputs": [],
   "source": [
    "correct = 0\n",
    "sum1 = 0\n",
    "for i in range(len(final_cm)):\n",
    "    for j in range(len(final_cm[0])):\n",
    "        if i == j:\n",
    "            correct += final_cm[i][j]\n",
    "        sum1 += final_cm[i][j]\n",
    "correct / sum1"
   ]
  },
  {
   "cell_type": "code",
   "execution_count": null,
   "metadata": {},
   "outputs": [],
   "source": [
    "final_cm = [[round(_[0] / sum(_), 3), round(_[1] / sum(_), 3), round(_[2] / sum(_), 3)] for _ in final_cm if sum(_) > 0] # might give a divide by 0 error if a whole row is 0. It would be prudent to just write all 0s in that case.\n",
    "print(final_cm[0])\n",
    "print(final_cm[1])\n",
    "print(final_cm[2])"
   ]
  },
  {
   "cell_type": "code",
   "execution_count": null,
   "metadata": {},
   "outputs": [],
   "source": []
  }
 ],
 "metadata": {
  "kernelspec": {
   "display_name": "Python 3",
   "language": "python",
   "name": "python3"
  },
  "language_info": {
   "codemirror_mode": {
    "name": "ipython",
    "version": 3
   },
   "file_extension": ".py",
   "mimetype": "text/x-python",
   "name": "python",
   "nbconvert_exporter": "python",
   "pygments_lexer": "ipython3",
   "version": "3.7.4"
  }
 },
 "nbformat": 4,
 "nbformat_minor": 2
}
